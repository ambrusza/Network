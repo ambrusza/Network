{
 "cells": [
  {
   "cell_type": "markdown",
   "id": "5609e337-c50f-4602-9156-8ac39105d3bc",
   "metadata": {},
   "source": [
    "import the necessary packages"
   ]
  },
  {
   "cell_type": "code",
   "execution_count": 1,
   "id": "fe1555d7-e6e6-4e74-a3ac-ee304dab87b6",
   "metadata": {},
   "outputs": [],
   "source": [
    "from urllib.request import urlopen\n",
    "import time\n",
    "import requests\n",
    "import bs4 as bs\n",
    "import os\n",
    "import networkx as nx\n",
    "import matplotlib.pyplot as plt\n",
    "import pandas as pd\n",
    "import urllib.request"
   ]
  },
  {
   "cell_type": "markdown",
   "id": "6d033617-fd22-4122-ae92-8e82b2dc8d41",
   "metadata": {},
   "source": [
    "in the first step, we take the links of the teams of the league we are interested in from the transfermarkt"
   ]
  },
  {
   "cell_type": "code",
   "execution_count": 2,
   "id": "6320338c-9098-49df-bb7b-fdfcd621e6a8",
   "metadata": {},
   "outputs": [],
   "source": [
    "def teamsLink_NB2():\n",
    "    url = 'https://www.transfermarkt.com/nemzeti-bajnoksag-ii-/startseite/wettbewerb/UN2'\n",
    "    \n",
    "    headers = {'USER-AGENT': 'Mozilla/5.0 (Macintosh; Intel Mac OS X 10_11_6) AppleWebKit/537.36 (KHTML, like Gecko) Chrome/53.0.2785.143 Safari/537.36'}\n",
    "    r = requests.get(url,headers=headers)\n",
    "    soup = bs.BeautifulSoup(r.content, \"html.parser\")\n",
    "    # we search based on href\n",
    "    a_tags = soup.find_all('a', href=True)\n",
    "    \n",
    "    tagok = []\n",
    "    for tag in a_tags:\n",
    "            if 'startseite' in tag['href']:\n",
    "                if 'verein' in tag['href']:\n",
    "                    play = 'https://www.transfermarkt.com'+tag['href']\n",
    "                    if play not in tagok:\n",
    "                        tagok.append(play)\n",
    "                        \n",
    "    teamsName = [x.text.strip() for x in soup.find_all('td',{'class':\"hauptlink no-border-links\"})]\n",
    "    \n",
    "    teljes_csapat_href = {p:v for p,v in zip(teamsName,tagok)}\n",
    "    \n",
    "    return teljes_csapat_href"
   ]
  },
  {
   "cell_type": "code",
   "execution_count": 3,
   "id": "9217f0e2-c1de-4432-9da2-c1dc0af5a751",
   "metadata": {},
   "outputs": [],
   "source": [
    "tLink = teamsLink_NB2()"
   ]
  },
  {
   "cell_type": "code",
   "execution_count": 4,
   "id": "bd1d8f69-61c4-485f-87e7-1125322a1028",
   "metadata": {},
   "outputs": [
    {
     "data": {
      "text/plain": [
       "{'MTK Budapest': 'https://www.transfermarkt.com/mtk-budapest/startseite/verein/634/saison_id/2022',\n",
       " 'Diósgyőri VTK': 'https://www.transfermarkt.com/diosgy%C5%91ri-vtk/startseite/verein/9241/saison_id/2022',\n",
       " 'Gyirmót FC Győr': 'https://www.transfermarkt.com/gyirmot-fc-gy%C5%91r/startseite/verein/22610/saison_id/2022',\n",
       " 'ETO FC Győr': 'https://www.transfermarkt.com/eto-fc-gy%C5%91r/startseite/verein/6055/saison_id/2022',\n",
       " 'Szeged-Csanád - GA': 'https://www.transfermarkt.com/szeged-csanad-ga/startseite/verein/30660/saison_id/2022',\n",
       " 'Budafoki MTE': 'https://www.transfermarkt.com/budafoki-mte/startseite/verein/28410/saison_id/2022',\n",
       " 'Nyíregyháza Spartacus': 'https://www.transfermarkt.com/nyiregyhaza-spartacus/startseite/verein/6058/saison_id/2022',\n",
       " 'Szombathelyi Haladás': 'https://www.transfermarkt.com/szombathelyi-haladas/startseite/verein/649/saison_id/2022',\n",
       " 'Pécsi MFC': 'https://www.transfermarkt.com/pecsi-mfc/startseite/verein/3233/saison_id/2022',\n",
       " 'Békéscsaba 1912 Elöre SE': 'https://www.transfermarkt.com/bekescsaba-1912-elore-se/startseite/verein/6049/saison_id/2022',\n",
       " 'Tiszakécskei LC': 'https://www.transfermarkt.com/duna-aszfalt-tiszakecskei-lc/startseite/verein/40173/saison_id/2022',\n",
       " 'Aqvital FC Csákvár': 'https://www.transfermarkt.com/aqvital-fc-csakvar/startseite/verein/33524/saison_id/2022',\n",
       " 'BFC Siófok': 'https://www.transfermarkt.com/bfc-siofok/startseite/verein/3552/saison_id/2022',\n",
       " 'FC Ajka': 'https://www.transfermarkt.com/fc-ajka/startseite/verein/24012/saison_id/2022',\n",
       " 'Soroksár SC': 'https://www.transfermarkt.com/soroksar-sc/startseite/verein/14585/saison_id/2022',\n",
       " 'Szentlőrinc SE': 'https://www.transfermarkt.com/szentl%C5%91rinc-se/startseite/verein/30624/saison_id/2022',\n",
       " 'Dorogi FC': 'https://www.transfermarkt.com/dorogi-fc/startseite/verein/27770/saison_id/2022',\n",
       " 'Kozármisleny FC': 'https://www.transfermarkt.com/kozarmisleny-fc/startseite/verein/24023/saison_id/2022',\n",
       " 'Kazincbarcikai SC': 'https://www.transfermarkt.com/kazincbarcikai-sc/startseite/verein/24031/saison_id/2022',\n",
       " 'Mosonmagyaróvári TE 1904': 'https://www.transfermarkt.com/mosonmagyarovari-te-1904/startseite/verein/30003/saison_id/2022'}"
      ]
     },
     "execution_count": 4,
     "metadata": {},
     "output_type": "execute_result"
    }
   ],
   "source": [
    "tLink"
   ]
  },
  {
   "cell_type": "markdown",
   "id": "d60e9d36-8749-4210-a06c-651ee44fe4bb",
   "metadata": {},
   "source": [
    "------------------------\n",
    "we are preparing to scrape the players' link"
   ]
  },
  {
   "cell_type": "code",
   "execution_count": 5,
   "id": "9f735e04-8f56-4ec9-8fd1-d8e7391fa2f4",
   "metadata": {},
   "outputs": [],
   "source": [
    "def souppP(url):\n",
    "    \n",
    "    headers = {'USER-AGENT': 'Mozilla/5.0 (Macintosh; Intel Mac OS X 10_11_6) AppleWebKit/537.36 (KHTML, like Gecko) Chrome/53.0.2785.143 Safari/537.36'}\n",
    "    r = requests.get(url,headers=headers)\n",
    "    soup = bs.BeautifulSoup(r.content, \"html.parser\")\n",
    "    \n",
    "    return soup"
   ]
  },
  {
   "cell_type": "code",
   "execution_count": 6,
   "id": "44336807-95ad-4fd1-bf10-e62d96983974",
   "metadata": {},
   "outputs": [],
   "source": [
    "def players_href(url):   #url => team URL\n",
    "    \n",
    "    sauce = souppP(url)\n",
    "    \n",
    "    tagok = []\n",
    "    a_tags = sauce.find_all('a', href=True)\n",
    "    # similar to teams function\n",
    "    for tag in a_tags:\n",
    "            if 'profil' in tag['href']:\n",
    "                play = 'https://www.transfermarkt.com'+[tag['href']][0]\n",
    "                if play not in tagok:\n",
    "                    tagok.append(play)\n",
    "    nevek = [x.text for x in sauce.find_all('span',{'class':\"hide-for-small\"}) if len(x.text) !=0]\n",
    "\n",
    "    teljes_csapat_href = {p:v for p,v in zip(nevek,tagok)}\n",
    "    \n",
    "    return teljes_csapat_href"
   ]
  },
  {
   "cell_type": "markdown",
   "id": "53c2e673-ad4e-4641-b219-c5901ed6a127",
   "metadata": {},
   "source": [
    "check"
   ]
  },
  {
   "cell_type": "code",
   "execution_count": 7,
   "id": "86b850c0-08fe-47f3-ba24-1f5c95ef45af",
   "metadata": {},
   "outputs": [
    {
     "data": {
      "text/plain": [
       "{'Dániel Horváth': 'https://www.transfermarkt.com/daniel-horvath/profil/spieler/287512',\n",
       " 'István Szabados': 'https://www.transfermarkt.com/istvan-szabados/profil/spieler/515758',\n",
       " 'Márton Balogh': 'https://www.transfermarkt.com/marton-balogh/profil/spieler/188737',\n",
       " 'Bence Jagodics': 'https://www.transfermarkt.com/bence-jagodics/profil/spieler/234481',\n",
       " 'Zsolt Tar': 'https://www.transfermarkt.com/zsolt-tar/profil/spieler/152057',\n",
       " 'Dávid Görgényi': 'https://www.transfermarkt.com/david-gorgenyi/profil/spieler/113420',\n",
       " 'Ádám Présinger': 'https://www.transfermarkt.com/adam-presinger/profil/spieler/110750',\n",
       " 'Gyula Csemer': 'https://www.transfermarkt.com/gyula-csemer/profil/spieler/286171',\n",
       " 'Gergely Tóth': 'https://www.transfermarkt.com/gergely-toth/profil/spieler/188727',\n",
       " 'Kristóf Szűcs': 'https://www.transfermarkt.com/kristof-sz%C5%B1cs/profil/spieler/487458',\n",
       " 'Péter Fodor': 'https://www.transfermarkt.com/peter-fodor/profil/spieler/884978',\n",
       " 'Tamás Tajthy': 'https://www.transfermarkt.com/tamas-tajthy/profil/spieler/157666',\n",
       " 'Zoltán Kenderes': 'https://www.transfermarkt.com/zoltan-kenderes/profil/spieler/141504',\n",
       " 'Benjámin Nagy': 'https://www.transfermarkt.com/benjamin-nagy/profil/spieler/979191',\n",
       " 'Bálint Vogyicska': 'https://www.transfermarkt.com/balint-vogyicska/profil/spieler/263384',\n",
       " 'Zoltán Csizmadia': 'https://www.transfermarkt.com/zoltan-csizmadia/profil/spieler/485942',\n",
       " 'Kevin Berzsenyi': 'https://www.transfermarkt.com/kevin-berzsenyi/profil/spieler/861941',\n",
       " 'Márk Orosz': 'https://www.transfermarkt.com/mark-orosz/profil/spieler/24308',\n",
       " 'Levente Doncsecz': 'https://www.transfermarkt.com/levente-doncsecz/profil/spieler/951354',\n",
       " 'Benjámin Szabó': 'https://www.transfermarkt.com/benjamin-szabo/profil/spieler/907053',\n",
       " 'Bálint Gaál': 'https://www.transfermarkt.com/balint-gaal/profil/spieler/108573',\n",
       " 'Richárd Zsolnai': 'https://www.transfermarkt.com/richard-zsolnai/profil/spieler/359212',\n",
       " 'Viktor Sejben': 'https://www.transfermarkt.com/viktor-sejben/profil/spieler/322000',\n",
       " 'Ákos Szarka': 'https://www.transfermarkt.com/akos-szarka/profil/spieler/143032',\n",
       " 'Filip Dragóner': 'https://www.transfermarkt.com/filip-dragoner/profil/spieler/263368',\n",
       " 'Márkó Molnár': 'https://www.transfermarkt.com/marko-molnar/profil/spieler/653857'}"
      ]
     },
     "execution_count": 7,
     "metadata": {},
     "output_type": "execute_result"
    }
   ],
   "source": [
    "players_href(list(tLink.values())[13])  # we extract a teams URL from dictionary (this is a complicated form, sorry)"
   ]
  },
  {
   "cell_type": "markdown",
   "id": "2ee1b74b-91bd-48fa-a58e-fe6068758e19",
   "metadata": {},
   "source": [
    "---------------------------------\n",
    "players' careers - based on Transfermarkt data"
   ]
  },
  {
   "cell_type": "code",
   "execution_count": 9,
   "id": "1d6cad07-e53e-401c-bb99-6c75b16eeeb1",
   "metadata": {},
   "outputs": [],
   "source": [
    "def transferRout(url,playersHref): # url=> player URL;  dictionary for all players on the team \n",
    "    \n",
    "    # headers = {'USER-AGENT': 'Mozilla/5.0 (Macintosh; Intel Mac OS X 10_11_6) AppleWebKit/537.36 (KHTML, like Gecko) Chrome/53.0.2785.143 Safari/537.36'}\n",
    "    # r = requests.get(url,headers=headers)\n",
    "    # soup = bs.BeautifulSoup(r.content, \"html.parser\")\n",
    "    soup = souppP(url)\n",
    "    \n",
    "    name = [x for x in playersHref if playersHref[x] == url][0]\n",
    "    \n",
    "    teams = [ x.text.strip() for x in soup.find_all(name=['span','a'], attrs={'class':\"tm-player-transfer-history-grid__club-link\"})]\n",
    "    season = [x.text.strip() for x in soup.find_all('div',{'class':\"grid__cell grid__cell--center tm-player-transfer-history-grid__season\"})]\n",
    "    date = [int(x.text.strip().split(',')[1].strip())  for x in soup.find_all('div',{'class':\"grid__cell grid__cell--center tm-player-transfer-history-grid__date\"})]\n",
    "    born = int([x.text.strip().split(',')[1].split('(')[0].strip() for x in soup.find_all('span',{'itemprop':\"birthDate\"})][0])\n",
    "    year = [x-born for x in date]\n",
    "    #print(f'name: {len(name)}, teams: {len(teams)}, season: {len(season)}'     )\n",
    "    fromAtoB = [(season[ind],date[ind],year[ind],name,teams[x],teams[x+1]) for ind, x in enumerate(range(0,len(teams),2))]\n",
    "    \n",
    "    return fromAtoB"
   ]
  },
  {
   "cell_type": "code",
   "execution_count": 37,
   "id": "3c869417-c9c1-46b7-9fe4-5ae71caee70c",
   "metadata": {},
   "outputs": [
    {
     "data": {
      "text/plain": [
       "[('21/22', 2021, 24, 'István Szabados', 'Debrecen', 'FC Ajka'),\n",
       " ('20/21', 2021, 24, 'István Szabados', 'Debreceni EAC', 'Debrecen'),\n",
       " ('20/21', 2020, 23, 'István Szabados', 'Debrecen', 'Debreceni EAC'),\n",
       " ('20/21', 2020, 23, 'István Szabados', 'Debreceni EAC', 'Debrecen'),\n",
       " ('18/19', 2018, 21, 'István Szabados', 'Debrecen', 'Debreceni EAC'),\n",
       " ('17/18', 2017, 20, 'István Szabados', 'Debrecen II', 'Debrecen'),\n",
       " ('16/17', 2017, 20, 'István Szabados', 'Debrecen U19', 'Debrecen II'),\n",
       " ('14/15', 2014, 17, 'István Szabados', 'Debrecen U17', 'Debrecen U19'),\n",
       " ('12/13', 2012, 15, 'István Szabados', 'Debrecen Yth.', 'Debrecen U17')]"
      ]
     },
     "execution_count": 37,
     "metadata": {},
     "output_type": "execute_result"
    }
   ],
   "source": [
    "# sample players\n",
    "teams_link = list(tLink.values())\n",
    "team_link = teams_link[13] #we choices the 13th team now\n",
    "team_players_with_link = players_href(team_link)\n",
    "team_players_only_link = list(team_players_with_link.values())\n",
    "player_link = team_players_only_link[1]#chosen player'link - now 1st\n",
    "\n",
    "#-------------------------------------------------------------------\n",
    "\n",
    "transferRout(player_link,team_players_with_link)\n",
    "\n",
    "#transferRout(list(players_href(list(tLink.values())[13]).values())[1], players_href(list(tLink.values())[13]))"
   ]
  },
  {
   "cell_type": "markdown",
   "id": "60f87206-5ade-4549-b167-af0c103db4c0",
   "metadata": {},
   "source": [
    "---------------------------\n",
    "organizing/collecting within the team (simple for loop)"
   ]
  },
  {
   "cell_type": "code",
   "execution_count": 44,
   "id": "2fd25251-8e83-43d6-822c-c77bfca8c1dc",
   "metadata": {},
   "outputs": [
    {
     "name": "stdout",
     "output_type": "stream",
     "text": [
      "https://www.transfermarkt.com/daniel-horvath/profil/spieler/287512\n",
      "https://www.transfermarkt.com/istvan-szabados/profil/spieler/515758\n",
      "https://www.transfermarkt.com/marton-balogh/profil/spieler/188737\n",
      "https://www.transfermarkt.com/bence-jagodics/profil/spieler/234481\n",
      "https://www.transfermarkt.com/zsolt-tar/profil/spieler/152057\n",
      "https://www.transfermarkt.com/david-gorgenyi/profil/spieler/113420\n",
      "https://www.transfermarkt.com/adam-presinger/profil/spieler/110750\n",
      "https://www.transfermarkt.com/gyula-csemer/profil/spieler/286171\n",
      "https://www.transfermarkt.com/gergely-toth/profil/spieler/188727\n",
      "https://www.transfermarkt.com/kristof-sz%C5%B1cs/profil/spieler/487458\n",
      "https://www.transfermarkt.com/peter-fodor/profil/spieler/884978\n",
      "https://www.transfermarkt.com/tamas-tajthy/profil/spieler/157666\n",
      "https://www.transfermarkt.com/zoltan-kenderes/profil/spieler/141504\n",
      "https://www.transfermarkt.com/benjamin-nagy/profil/spieler/979191\n",
      "https://www.transfermarkt.com/balint-vogyicska/profil/spieler/263384\n",
      "https://www.transfermarkt.com/zoltan-csizmadia/profil/spieler/485942\n",
      "https://www.transfermarkt.com/kevin-berzsenyi/profil/spieler/861941\n",
      "https://www.transfermarkt.com/mark-orosz/profil/spieler/24308\n",
      "https://www.transfermarkt.com/levente-doncsecz/profil/spieler/951354\n",
      "https://www.transfermarkt.com/benjamin-szabo/profil/spieler/907053\n",
      "https://www.transfermarkt.com/balint-gaal/profil/spieler/108573\n",
      "https://www.transfermarkt.com/richard-zsolnai/profil/spieler/359212\n",
      "https://www.transfermarkt.com/viktor-sejben/profil/spieler/322000\n",
      "https://www.transfermarkt.com/akos-szarka/profil/spieler/143032\n",
      "https://www.transfermarkt.com/filip-dragoner/profil/spieler/263368\n",
      "https://www.transfermarkt.com/marko-molnar/profil/spieler/653857\n"
     ]
    }
   ],
   "source": [
    "aggreg = []\n",
    "\n",
    "for pin in team_players_only_link:\n",
    "    print(pin)\n",
    "    kp = transferRout(pin,team_players_with_link)\n",
    "    aggreg = aggreg+kp"
   ]
  },
  {
   "cell_type": "code",
   "execution_count": 48,
   "id": "c17426e7-a48b-4624-8f6b-7dcb5d1f7aa8",
   "metadata": {},
   "outputs": [
    {
     "data": {
      "text/plain": [
       "[('17/18', 2018, 22, 'Dániel Horváth', 'Csákvár', 'FC Ajka'),\n",
       " ('17/18', 2017, 21, 'Dániel Horváth', 'ETO FC Győr', 'Csákvár'),\n",
       " ('16/17', 2017, 21, 'Dániel Horváth', 'Kozármisleny', 'ETO FC Győr'),\n",
       " ('16/17', 2017, 21, 'Dániel Horváth', 'ETO FC Győr', 'Kozármisleny'),\n",
       " ('14/15', 2015, 19, 'Dániel Horváth', 'ETO FC Győr II', 'ETO FC Győr'),\n",
       " ('13/14', 2013, 17, 'Dániel Horváth', 'Győr U19', 'ETO FC Győr II'),\n",
       " ('12/13', 2013, 17, 'Dániel Horváth', 'Győr U17', 'Győr U19'),\n",
       " ('12/13', 2012, 16, 'Dániel Horváth', 'Győr Yth.', 'Győr U17'),\n",
       " ('07/08', 2008, 12, 'Dániel Horváth', 'Haladás Yth.', 'Győr Yth.'),\n",
       " ('21/22', 2021, 24, 'István Szabados', 'Debrecen', 'FC Ajka')]"
      ]
     },
     "execution_count": 48,
     "metadata": {},
     "output_type": "execute_result"
    }
   ],
   "source": [
    "aggreg[:10] # check"
   ]
  },
  {
   "cell_type": "markdown",
   "id": "58a79a58-d453-4898-8326-04ae65dbe168",
   "metadata": {},
   "source": [
    "write a function on it - all team"
   ]
  },
  {
   "cell_type": "code",
   "execution_count": 52,
   "id": "46a7de0a-ef76-45c0-a613-2bb0a788f2e3",
   "metadata": {},
   "outputs": [],
   "source": [
    "def teamsDataFrame(urlPlayers):   #players URL\n",
    "    start = time.time()\n",
    "    pl_url = list(urlPlayers.values())\n",
    "    \n",
    "    sasa = []\n",
    "    for pin in pl_url:\n",
    "        kp = transferRout(pin,urlPlayers)\n",
    "        sasa = sasa+kp\n",
    "    \n",
    "    df = pd.DataFrame({'season':[x[0] for x in sasa],'year':[x[1] for x in sasa],'age':[x[2] for x in sasa],'name':[x[3] for x in sasa],'out':[x[4] for x in sasa],'in':[x[5] for x in sasa]})\n",
    "    end = time.time()\n",
    "    print(f'It lasted {round(end-start,2)} seconds.....')\n",
    "    return df"
   ]
  },
  {
   "cell_type": "markdown",
   "id": "15f1179a-5d8e-4861-98b3-2b76d939f174",
   "metadata": {},
   "source": [
    "pre-check with a team, plus timing"
   ]
  },
  {
   "cell_type": "code",
   "execution_count": 50,
   "id": "ef2870ed-1f22-46ab-be23-870db88e6c5f",
   "metadata": {},
   "outputs": [
    {
     "name": "stdout",
     "output_type": "stream",
     "text": [
      "29.8\n",
      "CPU times: user 2.94 s, sys: 78.3 ms, total: 3.02 s\n",
      "Wall time: 32.2 s\n"
     ]
    },
    {
     "data": {
      "text/html": [
       "<div>\n",
       "<style scoped>\n",
       "    .dataframe tbody tr th:only-of-type {\n",
       "        vertical-align: middle;\n",
       "    }\n",
       "\n",
       "    .dataframe tbody tr th {\n",
       "        vertical-align: top;\n",
       "    }\n",
       "\n",
       "    .dataframe thead th {\n",
       "        text-align: right;\n",
       "    }\n",
       "</style>\n",
       "<table border=\"1\" class=\"dataframe\">\n",
       "  <thead>\n",
       "    <tr style=\"text-align: right;\">\n",
       "      <th></th>\n",
       "      <th>season</th>\n",
       "      <th>year</th>\n",
       "      <th>age</th>\n",
       "      <th>name</th>\n",
       "      <th>out</th>\n",
       "      <th>in</th>\n",
       "    </tr>\n",
       "  </thead>\n",
       "  <tbody>\n",
       "    <tr>\n",
       "      <th>0</th>\n",
       "      <td>22/23</td>\n",
       "      <td>2023</td>\n",
       "      <td>20</td>\n",
       "      <td>Zsombor Senkó</td>\n",
       "      <td>Juve Next Gen</td>\n",
       "      <td>Diósgyőr</td>\n",
       "    </tr>\n",
       "    <tr>\n",
       "      <th>1</th>\n",
       "      <td>22/23</td>\n",
       "      <td>2022</td>\n",
       "      <td>19</td>\n",
       "      <td>Zsombor Senkó</td>\n",
       "      <td>Juventus U19</td>\n",
       "      <td>Juve Next Gen</td>\n",
       "    </tr>\n",
       "    <tr>\n",
       "      <th>2</th>\n",
       "      <td>20/21</td>\n",
       "      <td>2020</td>\n",
       "      <td>17</td>\n",
       "      <td>Zsombor Senkó</td>\n",
       "      <td>Juventus U17</td>\n",
       "      <td>Juventus U19</td>\n",
       "    </tr>\n",
       "    <tr>\n",
       "      <th>3</th>\n",
       "      <td>19/20</td>\n",
       "      <td>2019</td>\n",
       "      <td>16</td>\n",
       "      <td>Zsombor Senkó</td>\n",
       "      <td>Juventus Youth</td>\n",
       "      <td>Juventus U17</td>\n",
       "    </tr>\n",
       "    <tr>\n",
       "      <th>4</th>\n",
       "      <td>18/19</td>\n",
       "      <td>2019</td>\n",
       "      <td>16</td>\n",
       "      <td>Zsombor Senkó</td>\n",
       "      <td>Haladás Yth.</td>\n",
       "      <td>Juventus Youth</td>\n",
       "    </tr>\n",
       "    <tr>\n",
       "      <th>...</th>\n",
       "      <td>...</td>\n",
       "      <td>...</td>\n",
       "      <td>...</td>\n",
       "      <td>...</td>\n",
       "      <td>...</td>\n",
       "      <td>...</td>\n",
       "    </tr>\n",
       "    <tr>\n",
       "      <th>228</th>\n",
       "      <td>17/18</td>\n",
       "      <td>2017</td>\n",
       "      <td>17</td>\n",
       "      <td>Kristóf Korbély</td>\n",
       "      <td>Diósgyőr U17</td>\n",
       "      <td>Diósgyőr U19</td>\n",
       "    </tr>\n",
       "    <tr>\n",
       "      <th>229</th>\n",
       "      <td>16/17</td>\n",
       "      <td>2016</td>\n",
       "      <td>16</td>\n",
       "      <td>Kristóf Korbély</td>\n",
       "      <td>Diósgyőr Yth.</td>\n",
       "      <td>Diósgyőr U17</td>\n",
       "    </tr>\n",
       "    <tr>\n",
       "      <th>230</th>\n",
       "      <td>12/13</td>\n",
       "      <td>2012</td>\n",
       "      <td>12</td>\n",
       "      <td>Kristóf Korbély</td>\n",
       "      <td>KBSC Yth.</td>\n",
       "      <td>Diósgyőr Yth.</td>\n",
       "    </tr>\n",
       "    <tr>\n",
       "      <th>231</th>\n",
       "      <td>22/23</td>\n",
       "      <td>2023</td>\n",
       "      <td>21</td>\n",
       "      <td>Moussango Obounet</td>\n",
       "      <td>FK Slutsk</td>\n",
       "      <td>Diósgyőr</td>\n",
       "    </tr>\n",
       "    <tr>\n",
       "      <th>232</th>\n",
       "      <td>21/22</td>\n",
       "      <td>2022</td>\n",
       "      <td>20</td>\n",
       "      <td>Moussango Obounet</td>\n",
       "      <td>AS Pélican</td>\n",
       "      <td>FK Slutsk</td>\n",
       "    </tr>\n",
       "  </tbody>\n",
       "</table>\n",
       "<p>233 rows × 6 columns</p>\n",
       "</div>"
      ],
      "text/plain": [
       "    season  year  age               name             out              in\n",
       "0    22/23  2023   20      Zsombor Senkó   Juve Next Gen        Diósgyőr\n",
       "1    22/23  2022   19      Zsombor Senkó    Juventus U19   Juve Next Gen\n",
       "2    20/21  2020   17      Zsombor Senkó    Juventus U17    Juventus U19\n",
       "3    19/20  2019   16      Zsombor Senkó  Juventus Youth    Juventus U17\n",
       "4    18/19  2019   16      Zsombor Senkó    Haladás Yth.  Juventus Youth\n",
       "..     ...   ...  ...                ...             ...             ...\n",
       "228  17/18  2017   17    Kristóf Korbély    Diósgyőr U17    Diósgyőr U19\n",
       "229  16/17  2016   16    Kristóf Korbély   Diósgyőr Yth.    Diósgyőr U17\n",
       "230  12/13  2012   12    Kristóf Korbély       KBSC Yth.   Diósgyőr Yth.\n",
       "231  22/23  2023   21  Moussango Obounet       FK Slutsk        Diósgyőr\n",
       "232  21/22  2022   20  Moussango Obounet      AS Pélican       FK Slutsk\n",
       "\n",
       "[233 rows x 6 columns]"
      ]
     },
     "execution_count": 50,
     "metadata": {},
     "output_type": "execute_result"
    }
   ],
   "source": [
    "%%time\n",
    "teamsDataFrame(players_href(list(tLink.values())[1]))"
   ]
  },
  {
   "cell_type": "markdown",
   "id": "fe952cd2-1cc3-4070-8456-2051c180ff2d",
   "metadata": {},
   "source": [
    "we put it in a DataFrame"
   ]
  },
  {
   "cell_type": "code",
   "execution_count": 53,
   "id": "e32a9121-e1d3-4f41-bb4c-243572537b07",
   "metadata": {},
   "outputs": [
    {
     "name": "stdout",
     "output_type": "stream",
     "text": [
      "It lasted 27.19 seconds.....\n",
      "1. team is DONE\n",
      "It lasted 29.71 seconds.....\n",
      "2. team is DONE\n",
      "It lasted 27.7 seconds.....\n",
      "3. team is DONE\n",
      "It lasted 25.26 seconds.....\n",
      "4. team is DONE\n",
      "It lasted 32.87 seconds.....\n",
      "5. team is DONE\n",
      "It lasted 34.43 seconds.....\n",
      "6. team is DONE\n",
      "It lasted 28.91 seconds.....\n",
      "7. team is DONE\n",
      "It lasted 30.09 seconds.....\n",
      "8. team is DONE\n",
      "It lasted 22.01 seconds.....\n",
      "9. team is DONE\n",
      "It lasted 29.61 seconds.....\n",
      "10. team is DONE\n",
      "It lasted 28.03 seconds.....\n",
      "11. team is DONE\n",
      "It lasted 28.6 seconds.....\n",
      "12. team is DONE\n",
      "It lasted 29.82 seconds.....\n",
      "13. team is DONE\n",
      "It lasted 24.72 seconds.....\n",
      "14. team is DONE\n",
      "It lasted 25.99 seconds.....\n",
      "15. team is DONE\n",
      "It lasted 26.38 seconds.....\n",
      "16. team is DONE\n",
      "It lasted 27.13 seconds.....\n",
      "17. team is DONE\n",
      "It lasted 24.19 seconds.....\n",
      "18. team is DONE\n",
      "It lasted 23.74 seconds.....\n",
      "19. team is DONE\n",
      "It lasted 23.49 seconds.....\n",
      "20. team is DONE\n"
     ]
    }
   ],
   "source": [
    "df = pd.DataFrame()\n",
    "num = 1\n",
    "for think in range(len(tLink)):\n",
    "    \n",
    "    teams_deep = players_href(list(tLink.values())[think])\n",
    "    \n",
    "    df = pd.concat([df,teamsDataFrame(teams_deep)])\n",
    "    print(f'{num}. team is DONE')\n",
    "    num += 1"
   ]
  },
  {
   "cell_type": "markdown",
   "id": "7f3acf99-2053-49ee-b7a8-89138f5e6fe7",
   "metadata": {},
   "source": [
    "Check"
   ]
  },
  {
   "cell_type": "code",
   "execution_count": 54,
   "id": "7a70a997-d400-47ce-b42b-8121b002b4aa",
   "metadata": {},
   "outputs": [],
   "source": [
    "df.reset_index(drop=True, inplace=True)"
   ]
  },
  {
   "cell_type": "code",
   "execution_count": 55,
   "id": "a73a1e38-b0f3-441b-a5f0-be80dcbb1406",
   "metadata": {},
   "outputs": [
    {
     "data": {
      "text/html": [
       "<div>\n",
       "<style scoped>\n",
       "    .dataframe tbody tr th:only-of-type {\n",
       "        vertical-align: middle;\n",
       "    }\n",
       "\n",
       "    .dataframe tbody tr th {\n",
       "        vertical-align: top;\n",
       "    }\n",
       "\n",
       "    .dataframe thead th {\n",
       "        text-align: right;\n",
       "    }\n",
       "</style>\n",
       "<table border=\"1\" class=\"dataframe\">\n",
       "  <thead>\n",
       "    <tr style=\"text-align: right;\">\n",
       "      <th></th>\n",
       "      <th>season</th>\n",
       "      <th>year</th>\n",
       "      <th>age</th>\n",
       "      <th>name</th>\n",
       "      <th>out</th>\n",
       "      <th>in</th>\n",
       "    </tr>\n",
       "  </thead>\n",
       "  <tbody>\n",
       "    <tr>\n",
       "      <th>0</th>\n",
       "      <td>22/23</td>\n",
       "      <td>2023</td>\n",
       "      <td>28</td>\n",
       "      <td>Gergő Rácz</td>\n",
       "      <td>MTK Budapest</td>\n",
       "      <td>Paksi FC</td>\n",
       "    </tr>\n",
       "    <tr>\n",
       "      <th>1</th>\n",
       "      <td>22/23</td>\n",
       "      <td>2023</td>\n",
       "      <td>28</td>\n",
       "      <td>Gergő Rácz</td>\n",
       "      <td>Paksi FC</td>\n",
       "      <td>MTK Budapest</td>\n",
       "    </tr>\n",
       "    <tr>\n",
       "      <th>2</th>\n",
       "      <td>16/17</td>\n",
       "      <td>2016</td>\n",
       "      <td>21</td>\n",
       "      <td>Gergő Rácz</td>\n",
       "      <td>Ferencváros II</td>\n",
       "      <td>Paksi FC</td>\n",
       "    </tr>\n",
       "    <tr>\n",
       "      <th>3</th>\n",
       "      <td>14/15</td>\n",
       "      <td>2015</td>\n",
       "      <td>20</td>\n",
       "      <td>Gergő Rácz</td>\n",
       "      <td>Soroksár</td>\n",
       "      <td>Ferencváros II</td>\n",
       "    </tr>\n",
       "    <tr>\n",
       "      <th>4</th>\n",
       "      <td>14/15</td>\n",
       "      <td>2014</td>\n",
       "      <td>19</td>\n",
       "      <td>Gergő Rácz</td>\n",
       "      <td>Ferencváros II</td>\n",
       "      <td>Soroksár</td>\n",
       "    </tr>\n",
       "    <tr>\n",
       "      <th>...</th>\n",
       "      <td>...</td>\n",
       "      <td>...</td>\n",
       "      <td>...</td>\n",
       "      <td>...</td>\n",
       "      <td>...</td>\n",
       "      <td>...</td>\n",
       "    </tr>\n",
       "    <tr>\n",
       "      <th>4317</th>\n",
       "      <td>19/20</td>\n",
       "      <td>2019</td>\n",
       "      <td>19</td>\n",
       "      <td>Zoárd Nagy</td>\n",
       "      <td>Vasas FC</td>\n",
       "      <td>Taksony SE</td>\n",
       "    </tr>\n",
       "    <tr>\n",
       "      <th>4318</th>\n",
       "      <td>18/19</td>\n",
       "      <td>2019</td>\n",
       "      <td>19</td>\n",
       "      <td>Zoárd Nagy</td>\n",
       "      <td>Vasas U19</td>\n",
       "      <td>Vasas FC</td>\n",
       "    </tr>\n",
       "    <tr>\n",
       "      <th>4319</th>\n",
       "      <td>17/18</td>\n",
       "      <td>2017</td>\n",
       "      <td>17</td>\n",
       "      <td>Zoárd Nagy</td>\n",
       "      <td>Vasas U17</td>\n",
       "      <td>Vasas U19</td>\n",
       "    </tr>\n",
       "    <tr>\n",
       "      <th>4320</th>\n",
       "      <td>16/17</td>\n",
       "      <td>2016</td>\n",
       "      <td>16</td>\n",
       "      <td>Zoárd Nagy</td>\n",
       "      <td>Vasas Yth.</td>\n",
       "      <td>Vasas U17</td>\n",
       "    </tr>\n",
       "    <tr>\n",
       "      <th>4321</th>\n",
       "      <td>13/14</td>\n",
       "      <td>2014</td>\n",
       "      <td>14</td>\n",
       "      <td>Zoárd Nagy</td>\n",
       "      <td>Vác Yth.</td>\n",
       "      <td>Vasas Yth.</td>\n",
       "    </tr>\n",
       "  </tbody>\n",
       "</table>\n",
       "<p>4322 rows × 6 columns</p>\n",
       "</div>"
      ],
      "text/plain": [
       "     season  year  age        name             out              in\n",
       "0     22/23  2023   28  Gergő Rácz    MTK Budapest        Paksi FC\n",
       "1     22/23  2023   28  Gergő Rácz        Paksi FC    MTK Budapest\n",
       "2     16/17  2016   21  Gergő Rácz  Ferencváros II        Paksi FC\n",
       "3     14/15  2015   20  Gergő Rácz        Soroksár  Ferencváros II\n",
       "4     14/15  2014   19  Gergő Rácz  Ferencváros II        Soroksár\n",
       "...     ...   ...  ...         ...             ...             ...\n",
       "4317  19/20  2019   19  Zoárd Nagy        Vasas FC      Taksony SE\n",
       "4318  18/19  2019   19  Zoárd Nagy       Vasas U19        Vasas FC\n",
       "4319  17/18  2017   17  Zoárd Nagy       Vasas U17       Vasas U19\n",
       "4320  16/17  2016   16  Zoárd Nagy      Vasas Yth.       Vasas U17\n",
       "4321  13/14  2014   14  Zoárd Nagy        Vác Yth.      Vasas Yth.\n",
       "\n",
       "[4322 rows x 6 columns]"
      ]
     },
     "execution_count": 55,
     "metadata": {},
     "output_type": "execute_result"
    }
   ],
   "source": [
    "df"
   ]
  },
  {
   "cell_type": "markdown",
   "id": "bd5bf72e-1b8a-4f46-96ee-accf1aa34670",
   "metadata": {},
   "source": [
    "let's organize the names a bit -> the youth teams of the same team under a collective youth name (unfortunately it is meticulous)"
   ]
  },
  {
   "cell_type": "code",
   "execution_count": 56,
   "id": "e2402a39-979d-4565-8c2a-e0d414298e60",
   "metadata": {},
   "outputs": [],
   "source": [
    "teamsTwist = {'AKA Rapid':['AKA Rapid U15','AKA Rapid U16','AKA Rapid U18',],\n",
    "              'Ajax UP':['Ajax U17','Ajax U19',],\n",
    "              'Ajka UP':['FC Ajka Jgd.','FC Ajka U19','Ajka U17',],\n",
    "              'Augsburg UP':['FC Augsburg II','FC Augsburg U17','FC Augsburg U19',],\n",
    "              'Atalanta UP':['Atalanta U17','Atalanta U19',],\n",
    "              'Benfica UP':['Benfica U19','Benfica U23',],\n",
    "              'Budafok UP':['Budafok II','Budafok Jgd.','Budafok U17','Budafok U19',],\n",
    "              'Békéscsaba UP':['Békéscsaba II','Békéscsaba U17','Békéscsaba U19','Békéscsaba Yth.',],\n",
    "              'Cegléd UP':[ 'Cegléd Jgd','Ceglédi VSE U19',],\n",
    "              'Csákvár UP':['Csákvár II','Csákvár Jgd.','Csákvár U17','Csákvár U19',],\n",
    "              'Csepel UP':['Csepel FC Jgd','Csepel FC U19',],\n",
    "              'Debrecen UP':[ 'Debrecen II','Debrecen U17','Debrecen U19','Debrecen Yth.',],\n",
    "              'Diósgyőr UP':['Diósgyőr II','Diósgyőr U17','Diósgyőr U19','Diósgyőr Yth.',],\n",
    "              'Dorog UP':['Dorog Jgd.','Dorog U17','Dorog U19',],\n",
    "              'Dunaújváros':['Dunaujvaros FC','Dunaújváros',],\n",
    "              'Dunaújváros UP':['Dunaujvaros U19', 'Dunaújváros U19',],\n",
    "              'Győr':['ETO FC Győr',],\n",
    "              'Győr UP':['ETO FC Győr II','Győr U17','Győr U19','Győr Yth.',],\n",
    "              'Fehérvár':['Vidi FC','Videoton FC','Fehérvár',],\n",
    "              'Fehérvár UP':['Fehérvár II','Fehérvár U17','Fehérvár U19','Fehérvár Yth.', 'Videoton II','Videoton Jgd.','Videoton U17','Videoton U19',],\n",
    "              'Ferencváros UP':[ 'Ferencváros II','Ferencváros U17','Ferencváros U19','Ferencváros Yth',],\n",
    "              'Gyirmót UP':[ 'Gyirmót II','Gyirmót U17','Gyirmót U19','Gyirmót Yth.',],\n",
    "              'Haladás UP':[ 'Haladás II','Haladás U17','Haladás U19','Haladás Yth.',],\n",
    "              'Honvéd UP':['Honvéd II','Honvéd U17','Honvéd U19','Honvéd Yth.',],\n",
    "              'Juventus UP':['Juventus U17','Juventus U19','Juventus Youth',],\n",
    "              'Kozármisleny UP':['K.misleny U17','K.misleny Yth.',],\n",
    "              'Kazincbarcika UP':['KBSC U17','KBSC U19','KBSC Yth.',],\n",
    "              'Kaposvár UP':['Kaposvár II','Kaposvár U17','Kaposvár U19','Kaposvár Yth.',],\n",
    "              'Kecskemét UP':['Kecskemét II','Kecskemét Jgd','Kecskemét U17', 'Kecskemét U19','Kecskemét Yth.',],\n",
    "              'Kecskemét':['Kecskeméti TE',],\n",
    "              'Kisvárda UP':['Kisvárda II','Kisvárda Jgd.','Kisvárda U17','Kisvárda U19',],\n",
    "              'Liverpool UP':['Liverpool Res.','Liverpool U18','Liverpool U21','Liverpool U23',],\n",
    "              'MTE UP':['MTE 1904 U17','MTE 1904 U19','MTE1904 II','MTE1904 Jgd',],\n",
    "              'MTK UP':[ 'MTK Budapest II','MTK U17','MTK U19','MTK Yth.',],\n",
    "              'Mezőkövesd UP':[ 'Mezőkövesd II','Mezőkövesd U19',],\n",
    "              'Nyíregyháza UP':[ 'Ny.háza Yth.','Nyíregyháza II','Nyíregyháza U17','Nyíregyháza U19',],\n",
    "              'PSV UP':['PSV Eindhoven Y','PSV U17','PSV U19','PSV U21',],\n",
    "              'Paks UP':[ 'Paksi FC II','Paksi FC U17','Paksi FC U19','Paksi FC Yth.',],\n",
    "              'Puskás UP':['Puskás AFC II','Puskás AFC U17','Puskás AFC U19','Puskás AFC Yth.','Felcsút U19'],\n",
    "              'Pécs UP':[ 'Pécsi MFC II','Pécsi MFC U17','Pécsi MFC U19','Pécsi MFC Yth.',],\n",
    "              'REAC UP':['REAC Jgd.','REAC U19',],\n",
    "              'Rapid UP':['Rapid U15','Rapid U17','Rapid U19',],\n",
    "              'Siófok UP':['Siofok U19','Siófok U17','Siófok Yth.',],\n",
    "              'Szeged UP':['Szeged II','Szeged Jgd - GA','Szeged U17 - GA','Szeged U19 - GA',],\n",
    "              'Szolnok UP':[ 'Szolnok U17','Szolnok U19','Szolnok Yth.','Szolnoki MÁV FC II',],\n",
    "              'Tatabánya UP':[ 'Tatabánya U19','Tatabányai Jgd',],\n",
    "              'Tiszakécske UP':['Tiszakecske Jgd','Tiszakécske II','Tiszakécske U19','T.Kécske U17',],\n",
    "              'Vasas UP':['Vasas FC II','Vasas II','Vasas Jgd.','Vasas U17','Vasas U19','Vasas Yth.',],\n",
    "              'Vác UP':['Vác U17','Vác U19','Vác Yth.',],\n",
    "              'Zalaegerszeg UP':[ 'ZTE U17','ZTE U19','ZTE Youth','Zalaegerszeg II',],\n",
    "              'Újpest UP':[ 'Újpest II','Újpest U17','Újpest U19','Újpest Yth.'],\n",
    "              'Újpest':['Újpest','Újpest FC',],\n",
    "              'Veszprém UP':['Veszprém U17','Veszprém Yth.',]\n",
    "}"
   ]
  },
  {
   "cell_type": "markdown",
   "id": "7ae9c3f5-8855-4c2a-b986-9ef85545ec36",
   "metadata": {},
   "source": [
    "function to rewrite the team names"
   ]
  },
  {
   "cell_type": "code",
   "execution_count": 57,
   "id": "94a7dbeb-aebc-4a09-80fc-15906b87cb99",
   "metadata": {
    "tags": []
   },
   "outputs": [],
   "source": [
    "def nameD(dictionary,dataFrame):\n",
    "    csnevek, uzuni = [],{}\n",
    "    végső = {}\n",
    "    \n",
    "    for tu in dictionary.values():\n",
    "        for tz in tu:\n",
    "            csnevek.append(tz)\n",
    "    \n",
    "    gm = [x for x in dataFrame.out.unique()]\n",
    "    for t in dataFrame['in'].unique():\n",
    "        if t not in gm:\n",
    "            gm.append(t)\n",
    "    \n",
    "    for t in csnevek:\n",
    "        név = [x for x in dictionary if t in dictionary[x]][0]\n",
    "        uzuni[t] = név\n",
    "    \n",
    "    for p in gm:\n",
    "        if p in uzuni.keys():\n",
    "            végső[p] = uzuni[p]\n",
    "        else:\n",
    "            végső[p] = p\n",
    "    \n",
    "    sd = pd.DataFrame({'t1':uzuni.keys(),'t2':uzuni.values()})\n",
    "    \n",
    "    tE = [x for x in sd.t1.unique()]\n",
    "    cs2 = {}\n",
    "    for kul in gm:\n",
    "        if kul not in tE:\n",
    "            cs2[kul] = kul\n",
    "    \n",
    "    sd2 = pd.DataFrame(({'t1':cs2.keys(),'t2':cs2.values()}))\n",
    "    \n",
    "    sdMer = {*sd,*sd2}\n",
    "    sd10 = pd.concat([sd,sd2]).reset_index(drop=True)\n",
    "    \n",
    "    return sd10"
   ]
  },
  {
   "cell_type": "markdown",
   "id": "72d2a53c-336b-4f87-b957-f2c06a209434",
   "metadata": {},
   "source": [
    "we apply the function and check, that's why we make two new columns"
   ]
  },
  {
   "cell_type": "code",
   "execution_count": 58,
   "id": "d52da47e-8ab7-4727-8598-5a173c9812bf",
   "metadata": {},
   "outputs": [],
   "source": [
    "df2 = nameD(teamsTwist,df)\n",
    "dFrame2 = (df\n",
    "        .assign(new_team=[df2[df2.t1 == x].t2.values[0] for x in df.out],\n",
    "           old_team=[df2[df2.t1 == x].t2.values[0] for x in df['in']]))"
   ]
  },
  {
   "cell_type": "code",
   "execution_count": 59,
   "id": "ad07c62d-f0fa-42b0-b67d-bf1725de62a3",
   "metadata": {},
   "outputs": [
    {
     "data": {
      "text/html": [
       "<div>\n",
       "<style scoped>\n",
       "    .dataframe tbody tr th:only-of-type {\n",
       "        vertical-align: middle;\n",
       "    }\n",
       "\n",
       "    .dataframe tbody tr th {\n",
       "        vertical-align: top;\n",
       "    }\n",
       "\n",
       "    .dataframe thead th {\n",
       "        text-align: right;\n",
       "    }\n",
       "</style>\n",
       "<table border=\"1\" class=\"dataframe\">\n",
       "  <thead>\n",
       "    <tr style=\"text-align: right;\">\n",
       "      <th></th>\n",
       "      <th>season</th>\n",
       "      <th>year</th>\n",
       "      <th>age</th>\n",
       "      <th>name</th>\n",
       "      <th>out</th>\n",
       "      <th>in</th>\n",
       "      <th>new_team</th>\n",
       "      <th>old_team</th>\n",
       "    </tr>\n",
       "  </thead>\n",
       "  <tbody>\n",
       "    <tr>\n",
       "      <th>0</th>\n",
       "      <td>22/23</td>\n",
       "      <td>2023</td>\n",
       "      <td>28</td>\n",
       "      <td>Gergő Rácz</td>\n",
       "      <td>MTK Budapest</td>\n",
       "      <td>Paksi FC</td>\n",
       "      <td>MTK Budapest</td>\n",
       "      <td>Paksi FC</td>\n",
       "    </tr>\n",
       "    <tr>\n",
       "      <th>1</th>\n",
       "      <td>22/23</td>\n",
       "      <td>2023</td>\n",
       "      <td>28</td>\n",
       "      <td>Gergő Rácz</td>\n",
       "      <td>Paksi FC</td>\n",
       "      <td>MTK Budapest</td>\n",
       "      <td>Paksi FC</td>\n",
       "      <td>MTK Budapest</td>\n",
       "    </tr>\n",
       "    <tr>\n",
       "      <th>2</th>\n",
       "      <td>16/17</td>\n",
       "      <td>2016</td>\n",
       "      <td>21</td>\n",
       "      <td>Gergő Rácz</td>\n",
       "      <td>Ferencváros II</td>\n",
       "      <td>Paksi FC</td>\n",
       "      <td>Ferencváros UP</td>\n",
       "      <td>Paksi FC</td>\n",
       "    </tr>\n",
       "    <tr>\n",
       "      <th>3</th>\n",
       "      <td>14/15</td>\n",
       "      <td>2015</td>\n",
       "      <td>20</td>\n",
       "      <td>Gergő Rácz</td>\n",
       "      <td>Soroksár</td>\n",
       "      <td>Ferencváros II</td>\n",
       "      <td>Soroksár</td>\n",
       "      <td>Ferencváros UP</td>\n",
       "    </tr>\n",
       "    <tr>\n",
       "      <th>4</th>\n",
       "      <td>14/15</td>\n",
       "      <td>2014</td>\n",
       "      <td>19</td>\n",
       "      <td>Gergő Rácz</td>\n",
       "      <td>Ferencváros II</td>\n",
       "      <td>Soroksár</td>\n",
       "      <td>Ferencváros UP</td>\n",
       "      <td>Soroksár</td>\n",
       "    </tr>\n",
       "    <tr>\n",
       "      <th>...</th>\n",
       "      <td>...</td>\n",
       "      <td>...</td>\n",
       "      <td>...</td>\n",
       "      <td>...</td>\n",
       "      <td>...</td>\n",
       "      <td>...</td>\n",
       "      <td>...</td>\n",
       "      <td>...</td>\n",
       "    </tr>\n",
       "    <tr>\n",
       "      <th>4317</th>\n",
       "      <td>19/20</td>\n",
       "      <td>2019</td>\n",
       "      <td>19</td>\n",
       "      <td>Zoárd Nagy</td>\n",
       "      <td>Vasas FC</td>\n",
       "      <td>Taksony SE</td>\n",
       "      <td>Vasas FC</td>\n",
       "      <td>Taksony SE</td>\n",
       "    </tr>\n",
       "    <tr>\n",
       "      <th>4318</th>\n",
       "      <td>18/19</td>\n",
       "      <td>2019</td>\n",
       "      <td>19</td>\n",
       "      <td>Zoárd Nagy</td>\n",
       "      <td>Vasas U19</td>\n",
       "      <td>Vasas FC</td>\n",
       "      <td>Vasas UP</td>\n",
       "      <td>Vasas FC</td>\n",
       "    </tr>\n",
       "    <tr>\n",
       "      <th>4319</th>\n",
       "      <td>17/18</td>\n",
       "      <td>2017</td>\n",
       "      <td>17</td>\n",
       "      <td>Zoárd Nagy</td>\n",
       "      <td>Vasas U17</td>\n",
       "      <td>Vasas U19</td>\n",
       "      <td>Vasas UP</td>\n",
       "      <td>Vasas UP</td>\n",
       "    </tr>\n",
       "    <tr>\n",
       "      <th>4320</th>\n",
       "      <td>16/17</td>\n",
       "      <td>2016</td>\n",
       "      <td>16</td>\n",
       "      <td>Zoárd Nagy</td>\n",
       "      <td>Vasas Yth.</td>\n",
       "      <td>Vasas U17</td>\n",
       "      <td>Vasas UP</td>\n",
       "      <td>Vasas UP</td>\n",
       "    </tr>\n",
       "    <tr>\n",
       "      <th>4321</th>\n",
       "      <td>13/14</td>\n",
       "      <td>2014</td>\n",
       "      <td>14</td>\n",
       "      <td>Zoárd Nagy</td>\n",
       "      <td>Vác Yth.</td>\n",
       "      <td>Vasas Yth.</td>\n",
       "      <td>Vác UP</td>\n",
       "      <td>Vasas UP</td>\n",
       "    </tr>\n",
       "  </tbody>\n",
       "</table>\n",
       "<p>4322 rows × 8 columns</p>\n",
       "</div>"
      ],
      "text/plain": [
       "     season  year  age        name             out              in  \\\n",
       "0     22/23  2023   28  Gergő Rácz    MTK Budapest        Paksi FC   \n",
       "1     22/23  2023   28  Gergő Rácz        Paksi FC    MTK Budapest   \n",
       "2     16/17  2016   21  Gergő Rácz  Ferencváros II        Paksi FC   \n",
       "3     14/15  2015   20  Gergő Rácz        Soroksár  Ferencváros II   \n",
       "4     14/15  2014   19  Gergő Rácz  Ferencváros II        Soroksár   \n",
       "...     ...   ...  ...         ...             ...             ...   \n",
       "4317  19/20  2019   19  Zoárd Nagy        Vasas FC      Taksony SE   \n",
       "4318  18/19  2019   19  Zoárd Nagy       Vasas U19        Vasas FC   \n",
       "4319  17/18  2017   17  Zoárd Nagy       Vasas U17       Vasas U19   \n",
       "4320  16/17  2016   16  Zoárd Nagy      Vasas Yth.       Vasas U17   \n",
       "4321  13/14  2014   14  Zoárd Nagy        Vác Yth.      Vasas Yth.   \n",
       "\n",
       "            new_team        old_team  \n",
       "0       MTK Budapest        Paksi FC  \n",
       "1           Paksi FC    MTK Budapest  \n",
       "2     Ferencváros UP        Paksi FC  \n",
       "3           Soroksár  Ferencváros UP  \n",
       "4     Ferencváros UP        Soroksár  \n",
       "...              ...             ...  \n",
       "4317        Vasas FC      Taksony SE  \n",
       "4318        Vasas UP        Vasas FC  \n",
       "4319        Vasas UP        Vasas UP  \n",
       "4320        Vasas UP        Vasas UP  \n",
       "4321          Vác UP        Vasas UP  \n",
       "\n",
       "[4322 rows x 8 columns]"
      ]
     },
     "execution_count": 59,
     "metadata": {},
     "output_type": "execute_result"
    }
   ],
   "source": [
    "dFrame2"
   ]
  },
  {
   "cell_type": "markdown",
   "id": "50b8b92c-361c-4452-a174-1c07498b53ac",
   "metadata": {},
   "source": [
    "groupby because of the determination of the weights - with the new names now"
   ]
  },
  {
   "cell_type": "code",
   "execution_count": 60,
   "id": "5f3bc2de-3dae-4401-95cb-599b66242c59",
   "metadata": {},
   "outputs": [],
   "source": [
    "n2 = dFrame2.groupby(['old_team','new_team']).size().reset_index(name='w')"
   ]
  },
  {
   "cell_type": "markdown",
   "id": "1c206d1c-6e5a-4aff-a25a-980c4d68ca5c",
   "metadata": {},
   "source": [
    "exclude 'Without Club' value"
   ]
  },
  {
   "cell_type": "code",
   "execution_count": 61,
   "id": "ed35fecf-84ee-49e3-b99b-c89668e525f9",
   "metadata": {},
   "outputs": [],
   "source": [
    "n2 = n2[(n2.new_team!='Without Club')&(n2.old_team!='Without Club')].reset_index(drop=True)"
   ]
  },
  {
   "cell_type": "code",
   "execution_count": 62,
   "id": "a91053c3-1ede-4386-a670-ac9b1bafb6c0",
   "metadata": {},
   "outputs": [
    {
     "data": {
      "text/html": [
       "<div>\n",
       "<style scoped>\n",
       "    .dataframe tbody tr th:only-of-type {\n",
       "        vertical-align: middle;\n",
       "    }\n",
       "\n",
       "    .dataframe tbody tr th {\n",
       "        vertical-align: top;\n",
       "    }\n",
       "\n",
       "    .dataframe thead th {\n",
       "        text-align: right;\n",
       "    }\n",
       "</style>\n",
       "<table border=\"1\" class=\"dataframe\">\n",
       "  <thead>\n",
       "    <tr style=\"text-align: right;\">\n",
       "      <th></th>\n",
       "      <th>old_team</th>\n",
       "      <th>new_team</th>\n",
       "      <th>w</th>\n",
       "    </tr>\n",
       "  </thead>\n",
       "  <tbody>\n",
       "    <tr>\n",
       "      <th>0</th>\n",
       "      <td>1.FC K'lautern</td>\n",
       "      <td>Hamburger SV</td>\n",
       "      <td>1</td>\n",
       "    </tr>\n",
       "    <tr>\n",
       "      <th>1</th>\n",
       "      <td>1.FC Köln II</td>\n",
       "      <td>1.FC Köln U19</td>\n",
       "      <td>1</td>\n",
       "    </tr>\n",
       "    <tr>\n",
       "      <th>2</th>\n",
       "      <td>1.FC Köln U19</td>\n",
       "      <td>Königsdorf U19</td>\n",
       "      <td>1</td>\n",
       "    </tr>\n",
       "    <tr>\n",
       "      <th>3</th>\n",
       "      <td>1.FC Nuremberg</td>\n",
       "      <td>Hamburger SV</td>\n",
       "      <td>1</td>\n",
       "    </tr>\n",
       "    <tr>\n",
       "      <th>4</th>\n",
       "      <td>1.FSV Mainz 05</td>\n",
       "      <td>Alem. Aachen</td>\n",
       "      <td>1</td>\n",
       "    </tr>\n",
       "    <tr>\n",
       "      <th>...</th>\n",
       "      <td>...</td>\n",
       "      <td>...</td>\n",
       "      <td>...</td>\n",
       "    </tr>\n",
       "    <tr>\n",
       "      <th>2110</th>\n",
       "      <td>Újpest UP</td>\n",
       "      <td>REAC UP</td>\n",
       "      <td>1</td>\n",
       "    </tr>\n",
       "    <tr>\n",
       "      <th>2111</th>\n",
       "      <td>Újpest UP</td>\n",
       "      <td>Tompai SE</td>\n",
       "      <td>1</td>\n",
       "    </tr>\n",
       "    <tr>\n",
       "      <th>2112</th>\n",
       "      <td>Újpest UP</td>\n",
       "      <td>Vasas UP</td>\n",
       "      <td>3</td>\n",
       "    </tr>\n",
       "    <tr>\n",
       "      <th>2113</th>\n",
       "      <td>Újpest UP</td>\n",
       "      <td>Zalaegerszeg UP</td>\n",
       "      <td>1</td>\n",
       "    </tr>\n",
       "    <tr>\n",
       "      <th>2114</th>\n",
       "      <td>Újpest UP</td>\n",
       "      <td>Újpest UP</td>\n",
       "      <td>25</td>\n",
       "    </tr>\n",
       "  </tbody>\n",
       "</table>\n",
       "<p>2115 rows × 3 columns</p>\n",
       "</div>"
      ],
      "text/plain": [
       "            old_team         new_team   w\n",
       "0     1.FC K'lautern     Hamburger SV   1\n",
       "1       1.FC Köln II    1.FC Köln U19   1\n",
       "2      1.FC Köln U19   Königsdorf U19   1\n",
       "3     1.FC Nuremberg     Hamburger SV   1\n",
       "4     1.FSV Mainz 05     Alem. Aachen   1\n",
       "...              ...              ...  ..\n",
       "2110       Újpest UP          REAC UP   1\n",
       "2111       Újpest UP        Tompai SE   1\n",
       "2112       Újpest UP         Vasas UP   3\n",
       "2113       Újpest UP  Zalaegerszeg UP   1\n",
       "2114       Újpest UP        Újpest UP  25\n",
       "\n",
       "[2115 rows x 3 columns]"
      ]
     },
     "execution_count": 62,
     "metadata": {},
     "output_type": "execute_result"
    }
   ],
   "source": [
    "n2"
   ]
  },
  {
   "cell_type": "markdown",
   "id": "84b7778d-3c6d-40d2-86ff-ea94b05da57d",
   "metadata": {},
   "source": [
    "we want an undirected network, so we define the weights accordingly - the column name is useless (hahaha)"
   ]
  },
  {
   "cell_type": "code",
   "execution_count": 67,
   "id": "a313b104-e61d-42d4-ab9f-404771d1c845",
   "metadata": {},
   "outputs": [],
   "source": [
    "def lastClean_to_Graph(dataFrame):\n",
    "    \n",
    "    összeF = {}\n",
    "    # two cases\n",
    "    for jim in range(len(dataFrame)):\n",
    "        \n",
    "        aT, bT = dataFrame.loc[jim].old_team,dataFrame.loc[jim].new_team\n",
    "        if aT == bT: #first case\n",
    "            \n",
    "            tb = dataFrame[(dataFrame.old_team == aT) & (dataFrame.new_team == aT)]\n",
    "            # sub cases\n",
    "            if len(tb)==1:\n",
    "                val = tb.w.values[0]\n",
    "                \n",
    "            if(len(tb))>1:\n",
    "                val = sum(tb.w)\n",
    "                \n",
    "        if aT != bT: #second case\n",
    "            \n",
    "            tb = dataFrame[((dataFrame.old_team == aT) | (dataFrame.new_team == aT)) & ((dataFrame.old_team == bT) | (dataFrame.new_team == bT))]\n",
    "            val = sum(tb.w)\n",
    "            \n",
    "        if ((aT,bT) not in összeF) & ((bT,aT) not in összeF):\n",
    "            \n",
    "            összeF[(aT,bT)] = val\n",
    "\n",
    "    df = pd.DataFrame({'new':[x[0] for x in összeF],'old':[x[1] for x in összeF],'weight':[összeF[x] for x in összeF]})\n",
    "    \n",
    "    df = df.sort_values('weight',ascending=False).reset_index(drop=True)\n",
    "    \n",
    "    return df"
   ]
  },
  {
   "cell_type": "code",
   "execution_count": 65,
   "id": "64fe0ed6-9db3-4fe0-9c78-35e3cde8663a",
   "metadata": {},
   "outputs": [],
   "source": [
    "df_to_edge = lastClean_to_Graph(n2)"
   ]
  },
  {
   "cell_type": "code",
   "execution_count": 68,
   "id": "1fec66d8-f828-405b-9143-de5197f408e8",
   "metadata": {},
   "outputs": [
    {
     "data": {
      "text/html": [
       "<div>\n",
       "<style scoped>\n",
       "    .dataframe tbody tr th:only-of-type {\n",
       "        vertical-align: middle;\n",
       "    }\n",
       "\n",
       "    .dataframe tbody tr th {\n",
       "        vertical-align: top;\n",
       "    }\n",
       "\n",
       "    .dataframe thead th {\n",
       "        text-align: right;\n",
       "    }\n",
       "</style>\n",
       "<table border=\"1\" class=\"dataframe\">\n",
       "  <thead>\n",
       "    <tr style=\"text-align: right;\">\n",
       "      <th></th>\n",
       "      <th>new</th>\n",
       "      <th>old</th>\n",
       "      <th>weight</th>\n",
       "    </tr>\n",
       "  </thead>\n",
       "  <tbody>\n",
       "    <tr>\n",
       "      <th>0</th>\n",
       "      <td>MTK UP</td>\n",
       "      <td>MTK UP</td>\n",
       "      <td>116</td>\n",
       "    </tr>\n",
       "    <tr>\n",
       "      <th>1</th>\n",
       "      <td>Puskás UP</td>\n",
       "      <td>Puskás UP</td>\n",
       "      <td>87</td>\n",
       "    </tr>\n",
       "    <tr>\n",
       "      <th>2</th>\n",
       "      <td>Honvéd UP</td>\n",
       "      <td>Honvéd UP</td>\n",
       "      <td>68</td>\n",
       "    </tr>\n",
       "    <tr>\n",
       "      <th>3</th>\n",
       "      <td>Haladás UP</td>\n",
       "      <td>Haladás UP</td>\n",
       "      <td>67</td>\n",
       "    </tr>\n",
       "    <tr>\n",
       "      <th>4</th>\n",
       "      <td>Ferencváros UP</td>\n",
       "      <td>Ferencváros UP</td>\n",
       "      <td>59</td>\n",
       "    </tr>\n",
       "    <tr>\n",
       "      <th>...</th>\n",
       "      <td>...</td>\n",
       "      <td>...</td>\n",
       "      <td>...</td>\n",
       "    </tr>\n",
       "    <tr>\n",
       "      <th>1593</th>\n",
       "      <td>Haladás UP</td>\n",
       "      <td>Nagykanizsa Jgd</td>\n",
       "      <td>1</td>\n",
       "    </tr>\n",
       "    <tr>\n",
       "      <th>1594</th>\n",
       "      <td>Haladás UP</td>\n",
       "      <td>Nyíregyháza UP</td>\n",
       "      <td>1</td>\n",
       "    </tr>\n",
       "    <tr>\n",
       "      <th>1595</th>\n",
       "      <td>Haladás UP</td>\n",
       "      <td>Vasas UP</td>\n",
       "      <td>1</td>\n",
       "    </tr>\n",
       "    <tr>\n",
       "      <th>1596</th>\n",
       "      <td>Haladás UP</td>\n",
       "      <td>Újpest UP</td>\n",
       "      <td>1</td>\n",
       "    </tr>\n",
       "    <tr>\n",
       "      <th>1597</th>\n",
       "      <td>Honvéd UP</td>\n",
       "      <td>Fehérvár UP</td>\n",
       "      <td>1</td>\n",
       "    </tr>\n",
       "  </tbody>\n",
       "</table>\n",
       "<p>1598 rows × 3 columns</p>\n",
       "</div>"
      ],
      "text/plain": [
       "                 new              old  weight\n",
       "0             MTK UP           MTK UP     116\n",
       "1          Puskás UP        Puskás UP      87\n",
       "2          Honvéd UP        Honvéd UP      68\n",
       "3         Haladás UP       Haladás UP      67\n",
       "4     Ferencváros UP   Ferencváros UP      59\n",
       "...              ...              ...     ...\n",
       "1593      Haladás UP  Nagykanizsa Jgd       1\n",
       "1594      Haladás UP   Nyíregyháza UP       1\n",
       "1595      Haladás UP         Vasas UP       1\n",
       "1596      Haladás UP        Újpest UP       1\n",
       "1597       Honvéd UP      Fehérvár UP       1\n",
       "\n",
       "[1598 rows x 3 columns]"
      ]
     },
     "execution_count": 68,
     "metadata": {},
     "output_type": "execute_result"
    }
   ],
   "source": [
    "df_to_edge"
   ]
  },
  {
   "cell_type": "code",
   "execution_count": 78,
   "id": "7b8aa686-bb09-4fdc-b83d-56a8a204156d",
   "metadata": {},
   "outputs": [],
   "source": [
    "# make a dictionary from df_to_edge"
   ]
  },
  {
   "cell_type": "code",
   "execution_count": 79,
   "id": "d7c21a99-8db5-4c95-ac07-f56a958db0a5",
   "metadata": {},
   "outputs": [],
   "source": [
    "def edges_(dataFrame):\n",
    "    \n",
    "    edges = {}\n",
    "    \n",
    "    for x in range(len(dataFrame)):\n",
    "        \n",
    "        w = dataFrame.iloc[x].weight\n",
    "        edge = '\\t'.join([dataFrame.iloc[x].old,dataFrame.iloc[x].new])\n",
    "        \n",
    "        if edge not in edges:\n",
    "            edges[edge] = w\n",
    "        else:\n",
    "            edges[edge] += w\n",
    "            \n",
    "    return edges"
   ]
  },
  {
   "cell_type": "code",
   "execution_count": 80,
   "id": "51e0751b-8db7-4af2-8404-63025535ae2d",
   "metadata": {
    "tags": []
   },
   "outputs": [],
   "source": [
    "edges = edges_(df_to_edge)"
   ]
  },
  {
   "cell_type": "markdown",
   "id": "aba98bed-3d65-4999-8987-16691aac9a1a",
   "metadata": {},
   "source": [
    "## NetworkX_now\n",
    "we write a function due to NetworkX"
   ]
  },
  {
   "cell_type": "code",
   "execution_count": 81,
   "id": "2d50ecba-6e99-433a-ac78-9467bd1c07a0",
   "metadata": {},
   "outputs": [],
   "source": [
    "def dRawGraph(dataFrame):\n",
    "    \n",
    "    G = nx.Graph()\n",
    "    \n",
    "    for e, w in edges.items(): # sort the connected edges and add weights\n",
    "        \n",
    "        if w>0:\n",
    "            e1, e2 = e.split('\\t')\n",
    "\n",
    "            G.add_edge(e1, e2, weight=w)\n",
    "\n",
    "    G.remove_edges_from(nx.selfloop_edges(G))\n",
    "\n",
    "    print('Number of nodes: ', G.number_of_nodes())\n",
    "    print('Number of edges: ', G.number_of_edges())\n",
    "    \n",
    "    return G"
   ]
  },
  {
   "cell_type": "code",
   "execution_count": 82,
   "id": "e7bad4c5-e138-432f-87dd-d5580f767f93",
   "metadata": {},
   "outputs": [
    {
     "name": "stdout",
     "output_type": "stream",
     "text": [
      "Number of nodes:  507\n",
      "Number of edges:  1554\n"
     ]
    }
   ],
   "source": [
    "G = dRawGraph(df_to_edge)"
   ]
  },
  {
   "cell_type": "markdown",
   "id": "c7313d19-eeb8-45bc-9299-e43f48ffb57f",
   "metadata": {},
   "source": [
    "drawing..."
   ]
  },
  {
   "cell_type": "code",
   "execution_count": 83,
   "id": "78d3cda1-722e-48a5-a54d-d18091d894e2",
   "metadata": {},
   "outputs": [
    {
     "data": {
      "image/png": "[encoded data removed]",
      "text/plain": [
       "<Figure size 1080x1080 with 1 Axes>"
      ]
     },
     "metadata": {},
     "output_type": "display_data"
    }
   ],
   "source": [
    "f, ax = plt.subplots(1,1,figsize=(15,15))\n",
    "nx.draw(G, ax=ax)"
   ]
  },
  {
   "cell_type": "markdown",
   "id": "854c2816-22bf-4eef-9987-c1ef348407ce",
   "metadata": {},
   "source": [
    "for further use, we save it in a format suitable for Gephi"
   ]
  },
  {
   "cell_type": "code",
   "execution_count": 84,
   "id": "a739a659-b8c1-42e9-b874-1bf558871e01",
   "metadata": {},
   "outputs": [],
   "source": [
    "nx.write_gexf(G, 'NB2_transferMarktData_.gexf')"
   ]
  },
  {
   "cell_type": "markdown",
   "id": "0e04b737-6b88-4d5a-b58c-757a6d84fa3d",
   "metadata": {},
   "source": [
    "characteristics of our network (idea from @milanJanosov)"
   ]
  },
  {
   "cell_type": "code",
   "execution_count": 85,
   "id": "72e9ff02-7cf4-4fef-b09e-21e058614f43",
   "metadata": {},
   "outputs": [
    {
     "name": "stdout",
     "output_type": "stream",
     "text": [
      "Top 10 most connected teams: MTK UP, Ferencváros UP, Győr, Honvéd UP, Nyíregyháza, MTK Budapest, Diósgyőr, Mezőkövesd, Kazincbarcika, Haladás\n",
      "\n",
      "\n",
      "Number of connections of the top teams:\n",
      "\n",
      "MTK UP 60\n",
      "Ferencváros UP 60\n",
      "Győr 55\n",
      "Honvéd UP 54\n",
      "Nyíregyháza 53\n",
      "MTK Budapest 50\n",
      "Diósgyőr 50\n",
      "Mezőkövesd 48\n",
      "Kazincbarcika 47\n",
      "Haladás 46\n",
      "\n",
      "\n",
      "Fraction of connections relating to the top 10 teams: 0.168\n"
     ]
    }
   ],
   "source": [
    "# get the node degree distribution\n",
    "nodes = sorted([(k, v) for k, v in dict(G.degree).items()], key=lambda tup: tup[1], reverse = True)\n",
    "print('Top 10 most connected teams:', ', '.join([n[0] for n in nodes[0:10]]))\n",
    "\n",
    "print('\\n\\nNumber of connections of the top teams:\\n')\n",
    "szm = 0\n",
    "for n in nodes[0:10]:\n",
    "    print(n[0], n[1])\n",
    "    szm+=n[1]\n",
    "# compute the number of links belonging to the top characters\n",
    "print('\\n\\nFraction of connections relating to the top 10 teams:' , round(sum([n[1] for n in nodes[0:10]])/sum([n[1] for n in nodes]), 3))"
   ]
  },
  {
   "cell_type": "code",
   "execution_count": 86,
   "id": "560d7d27-013e-4a32-833e-3cbb3cf68092",
   "metadata": {},
   "outputs": [
    {
     "name": "stdout",
     "output_type": "stream",
     "text": [
      "Connection limit: 10, number of nodes:  437 507\n",
      "Connection limit: 5, number of nodes:  386 507\n",
      "Connection limit: 3, number of nodes:  313 507\n"
     ]
    }
   ],
   "source": [
    "for limit in [10, 5, 3]:\n",
    "    print('Connection limit: ' + str(limit) + ', number of nodes: ', len([n for n in nodes if n[1]<limit]), len(nodes))"
   ]
  },
  {
   "cell_type": "code",
   "execution_count": 88,
   "id": "f64aed51-b09f-4223-96c6-67acde07f3dd",
   "metadata": {
    "tags": []
   },
   "outputs": [
    {
     "name": "stdout",
     "output_type": "stream",
     "text": [
      "1 ('Csákvár - Puskás UP', 51)\n",
      "2 ('Csákvár - Puskás AFC', 44)\n",
      "3 ('MTK Budapest - MTK UP', 38)\n",
      "4 ('Ferencváros - Soroksár', 29)\n",
      "5 ('Fehérvár UP - Puskás UP', 26)\n",
      "6 ('Haladás - Haladás UP', 25)\n",
      "7 ('Ferencváros UP - Soroksár', 25)\n",
      "8 ('Fehérvár UP - Puskás AFC', 20)\n",
      "9 ('Kozármisleny - Pécsi MFC', 18)\n",
      "10 ('Puskás AFC - Puskás UP', 16)\n"
     ]
    }
   ],
   "source": [
    "edges = sorted([(' - '.join(sorted([e[0], e[1]])), G.get_edge_data(e[0], e[1])['weight']) for e in G.edges], key=lambda tup: tup[1], reverse = True)\n",
    "for ind, edge in enumerate(edges):\n",
    "    if ind<10:\n",
    "        print(ind+1, edge)"
   ]
  },
  {
   "cell_type": "markdown",
   "id": "5aa22548-21da-4af1-8eec-696bdb60914c",
   "metadata": {},
   "source": []
  },
  {
   "cell_type": "code",
   "execution_count": 160,
   "id": "1e515ff7-fe63-42a6-b89b-cbe529bfef2f",
   "metadata": {},
   "outputs": [],
   "source": [
    "a = [x[0].split('-')[0].strip() for x in edges]\n",
    "b = [x[0].split('-')[1].strip() for x in edges]\n",
    "c = [x[1] for x in edges]"
   ]
  },
  {
   "cell_type": "code",
   "execution_count": 161,
   "id": "594482f3-0aba-4eab-9329-db08e7961949",
   "metadata": {},
   "outputs": [],
   "source": [
    "ddk = pd.DataFrame({'a':a,'b':b,'edg':c})"
   ]
  },
  {
   "cell_type": "code",
   "execution_count": 162,
   "id": "924ff5cb-a583-4c63-9cd0-c12974582587",
   "metadata": {},
   "outputs": [],
   "source": [
    "dp = ddk.groupby('edg').size().reset_index(name='val')"
   ]
  },
  {
   "cell_type": "code",
   "execution_count": 163,
   "id": "76bd00a1-bae5-4b97-9acf-f1150ae48eb8",
   "metadata": {},
   "outputs": [
    {
     "data": {
      "text/html": [
       "<div>\n",
       "<style scoped>\n",
       "    .dataframe tbody tr th:only-of-type {\n",
       "        vertical-align: middle;\n",
       "    }\n",
       "\n",
       "    .dataframe tbody tr th {\n",
       "        vertical-align: top;\n",
       "    }\n",
       "\n",
       "    .dataframe thead th {\n",
       "        text-align: right;\n",
       "    }\n",
       "</style>\n",
       "<table border=\"1\" class=\"dataframe\">\n",
       "  <thead>\n",
       "    <tr style=\"text-align: right;\">\n",
       "      <th></th>\n",
       "      <th>edg</th>\n",
       "      <th>val</th>\n",
       "    </tr>\n",
       "  </thead>\n",
       "  <tbody>\n",
       "    <tr>\n",
       "      <th>6</th>\n",
       "      <td>7</td>\n",
       "      <td>20</td>\n",
       "    </tr>\n",
       "  </tbody>\n",
       "</table>\n",
       "</div>"
      ],
      "text/plain": [
       "   edg  val\n",
       "6    7   20"
      ]
     },
     "execution_count": 163,
     "metadata": {},
     "output_type": "execute_result"
    }
   ],
   "source": [
    "dp.sample()"
   ]
  },
  {
   "cell_type": "code",
   "execution_count": 164,
   "id": "73bae483-480e-4140-b891-fc8210350eb1",
   "metadata": {},
   "outputs": [
    {
     "data": {
      "image/png": "[encoded data removed]",
      "text/plain": [
       "<Figure size 432x288 with 1 Axes>"
      ]
     },
     "metadata": {
      "needs_background": "light"
     },
     "output_type": "display_data"
    }
   ],
   "source": [
    "plt.loglog(dp.edg,dp.val)\n",
    "plt.xlabel('number of connections (k)')\n",
    "plt.ylabel('the number of points with (k) connections')\n",
    "plt.title('log-log diagram');"
   ]
  },
  {
   "cell_type": "code",
   "execution_count": 165,
   "id": "43437bea-3c7b-458b-809e-cbac65c628c7",
   "metadata": {},
   "outputs": [],
   "source": [
    "import seaborn as sns"
   ]
  },
  {
   "cell_type": "code",
   "execution_count": 166,
   "id": "3410e12f-e6e6-4131-92fa-a3231b808ecb",
   "metadata": {},
   "outputs": [
    {
     "data": {
      "image/png": "[encoded data removed]",
      "text/plain": [
       "<Figure size 432x288 with 1 Axes>"
      ]
     },
     "metadata": {
      "needs_background": "light"
     },
     "output_type": "display_data"
    }
   ],
   "source": [
    "sns.histplot(ddk.edg,color='r',binwidth=3)\n",
    "plt.xlabel('number of connections (k)')\n",
    "plt.ylabel('the number of points with (k) connections')\n",
    "plt.title('histogram');"
   ]
  },
  {
   "cell_type": "code",
   "execution_count": null,
   "id": "97e8b1fe-cc43-4f81-a6de-9481606fd649",
   "metadata": {},
   "outputs": [],
   "source": []
  }
 ],
 "metadata": {
  "kernelspec": {
   "display_name": "Python 3",
   "language": "python",
   "name": "python3"
  },
  "language_info": {
   "codemirror_mode": {
    "name": "ipython",
    "version": 3
   },
   "file_extension": ".py",
   "mimetype": "text/x-python",
   "name": "python",
   "nbconvert_exporter": "python",
   "pygments_lexer": "ipython3",
   "version": "3.8.5"
  }
 },
 "nbformat": 4,
 "nbformat_minor": 5
}
